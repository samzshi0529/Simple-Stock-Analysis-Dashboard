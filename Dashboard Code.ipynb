{
 "cells": [
  {
   "cell_type": "markdown",
   "id": "a3c87a2d",
   "metadata": {},
   "source": [
    "# Import Necessary Packages"
   ]
  },
  {
   "cell_type": "code",
   "execution_count": 1,
   "id": "756a10f0",
   "metadata": {},
   "outputs": [
    {
     "name": "stdout",
     "output_type": "stream",
     "text": [
      "Requirement already satisfied: wbdata in /Users/miracles/opt/anaconda3/lib/python3.8/site-packages (0.3.0)\n",
      "Requirement already satisfied: appdirs<2.0,>=1.4 in /Users/miracles/opt/anaconda3/lib/python3.8/site-packages (from wbdata) (1.4.4)\n",
      "Requirement already satisfied: decorator>=4.0 in /Users/miracles/opt/anaconda3/lib/python3.8/site-packages (from wbdata) (5.0.6)\n",
      "Requirement already satisfied: requests>=2.0 in /Users/miracles/opt/anaconda3/lib/python3.8/site-packages (from wbdata) (2.31.0)\n",
      "Requirement already satisfied: tabulate>=0.8.5 in /Users/miracles/opt/anaconda3/lib/python3.8/site-packages (from wbdata) (0.9.0)\n",
      "Requirement already satisfied: charset-normalizer<4,>=2 in /Users/miracles/opt/anaconda3/lib/python3.8/site-packages (from requests>=2.0->wbdata) (2.1.1)\n",
      "Requirement already satisfied: idna<4,>=2.5 in /Users/miracles/opt/anaconda3/lib/python3.8/site-packages (from requests>=2.0->wbdata) (2.10)\n",
      "Requirement already satisfied: urllib3<3,>=1.21.1 in /Users/miracles/opt/anaconda3/lib/python3.8/site-packages (from requests>=2.0->wbdata) (1.26.13)\n",
      "Requirement already satisfied: certifi>=2017.4.17 in /Users/miracles/opt/anaconda3/lib/python3.8/site-packages (from requests>=2.0->wbdata) (2020.12.5)\n",
      "\u001b[33mDEPRECATION: pyodbc 4.0.0-unsupported has a non-standard version number. pip 24.0 will enforce this behaviour change. A possible replacement is to upgrade to a newer version of pyodbc or contact the author to suggest that they release a version with a conforming version number. Discussion can be found at https://github.com/pypa/pip/issues/12063\u001b[0m\u001b[33m\n",
      "\u001b[0m\n",
      "\u001b[1m[\u001b[0m\u001b[34;49mnotice\u001b[0m\u001b[1;39;49m]\u001b[0m\u001b[39;49m A new release of pip is available: \u001b[0m\u001b[31;49m23.3.2\u001b[0m\u001b[39;49m -> \u001b[0m\u001b[32;49m24.0\u001b[0m\n",
      "\u001b[1m[\u001b[0m\u001b[34;49mnotice\u001b[0m\u001b[1;39;49m]\u001b[0m\u001b[39;49m To update, run: \u001b[0m\u001b[32;49mpip install --upgrade pip\u001b[0m\n"
     ]
    }
   ],
   "source": [
    "!pip install wbdata"
   ]
  },
  {
   "cell_type": "code",
   "execution_count": 2,
   "id": "95bc6242",
   "metadata": {},
   "outputs": [
    {
     "name": "stdout",
     "output_type": "stream",
     "text": [
      "Requirement already satisfied: prophet in /Users/miracles/opt/anaconda3/lib/python3.8/site-packages (1.1.5)\n",
      "Requirement already satisfied: cmdstanpy>=1.0.4 in /Users/miracles/opt/anaconda3/lib/python3.8/site-packages (from prophet) (1.2.1)\n",
      "Requirement already satisfied: numpy>=1.15.4 in /Users/miracles/opt/anaconda3/lib/python3.8/site-packages (from prophet) (1.24.3)\n",
      "Requirement already satisfied: matplotlib>=2.0.0 in /Users/miracles/opt/anaconda3/lib/python3.8/site-packages (from prophet) (3.7.3)\n",
      "Requirement already satisfied: pandas>=1.0.4 in /Users/miracles/opt/anaconda3/lib/python3.8/site-packages (from prophet) (2.0.3)\n",
      "Requirement already satisfied: holidays>=0.25 in /Users/miracles/opt/anaconda3/lib/python3.8/site-packages (from prophet) (0.44)\n",
      "Requirement already satisfied: tqdm>=4.36.1 in /Users/miracles/opt/anaconda3/lib/python3.8/site-packages (from prophet) (4.64.1)\n",
      "Requirement already satisfied: importlib-resources in /Users/miracles/opt/anaconda3/lib/python3.8/site-packages (from prophet) (6.1.0)\n",
      "Requirement already satisfied: stanio~=0.3.0 in /Users/miracles/opt/anaconda3/lib/python3.8/site-packages (from cmdstanpy>=1.0.4->prophet) (0.3.0)\n",
      "Requirement already satisfied: python-dateutil in /Users/miracles/opt/anaconda3/lib/python3.8/site-packages (from holidays>=0.25->prophet) (2.8.2)\n",
      "Requirement already satisfied: contourpy>=1.0.1 in /Users/miracles/opt/anaconda3/lib/python3.8/site-packages (from matplotlib>=2.0.0->prophet) (1.1.1)\n",
      "Requirement already satisfied: cycler>=0.10 in /Users/miracles/opt/anaconda3/lib/python3.8/site-packages (from matplotlib>=2.0.0->prophet) (0.10.0)\n",
      "Requirement already satisfied: fonttools>=4.22.0 in /Users/miracles/opt/anaconda3/lib/python3.8/site-packages (from matplotlib>=2.0.0->prophet) (4.43.1)\n",
      "Requirement already satisfied: kiwisolver>=1.0.1 in /Users/miracles/opt/anaconda3/lib/python3.8/site-packages (from matplotlib>=2.0.0->prophet) (1.3.1)\n",
      "Requirement already satisfied: packaging>=20.0 in /Users/miracles/opt/anaconda3/lib/python3.8/site-packages (from matplotlib>=2.0.0->prophet) (24.0)\n",
      "Requirement already satisfied: pillow>=6.2.0 in /Users/miracles/opt/anaconda3/lib/python3.8/site-packages (from matplotlib>=2.0.0->prophet) (10.2.0)\n",
      "Requirement already satisfied: pyparsing>=2.3.1 in /Users/miracles/opt/anaconda3/lib/python3.8/site-packages (from matplotlib>=2.0.0->prophet) (2.4.7)\n",
      "Requirement already satisfied: zipp>=3.1.0 in /Users/miracles/opt/anaconda3/lib/python3.8/site-packages (from importlib-resources->prophet) (3.4.1)\n",
      "Requirement already satisfied: pytz>=2020.1 in /Users/miracles/opt/anaconda3/lib/python3.8/site-packages (from pandas>=1.0.4->prophet) (2024.1)\n",
      "Requirement already satisfied: tzdata>=2022.1 in /Users/miracles/opt/anaconda3/lib/python3.8/site-packages (from pandas>=1.0.4->prophet) (2022.7)\n",
      "Requirement already satisfied: six in /Users/miracles/opt/anaconda3/lib/python3.8/site-packages (from cycler>=0.10->matplotlib>=2.0.0->prophet) (1.15.0)\n",
      "\u001b[33mDEPRECATION: pyodbc 4.0.0-unsupported has a non-standard version number. pip 24.0 will enforce this behaviour change. A possible replacement is to upgrade to a newer version of pyodbc or contact the author to suggest that they release a version with a conforming version number. Discussion can be found at https://github.com/pypa/pip/issues/12063\u001b[0m\u001b[33m\n",
      "\u001b[0m\n",
      "\u001b[1m[\u001b[0m\u001b[34;49mnotice\u001b[0m\u001b[1;39;49m]\u001b[0m\u001b[39;49m A new release of pip is available: \u001b[0m\u001b[31;49m23.3.2\u001b[0m\u001b[39;49m -> \u001b[0m\u001b[32;49m24.0\u001b[0m\n",
      "\u001b[1m[\u001b[0m\u001b[34;49mnotice\u001b[0m\u001b[1;39;49m]\u001b[0m\u001b[39;49m To update, run: \u001b[0m\u001b[32;49mpip install --upgrade pip\u001b[0m\n",
      "Note: you may need to restart the kernel to use updated packages.\n"
     ]
    }
   ],
   "source": [
    "pip install prophet\n"
   ]
  },
  {
   "cell_type": "code",
   "execution_count": 3,
   "id": "14c0e610",
   "metadata": {},
   "outputs": [],
   "source": [
    "from sklearn.ensemble import RandomForestRegressor\n",
    "from sklearn.model_selection import train_test_split\n",
    "import numpy as np\n",
    "import matplotlib.pyplot as plt\n",
    "import pandas as pd\n",
    "import yfinance as yf\n",
    "from datetime import datetime, date\n",
    "import seaborn as sns\n",
    "import matplotlib.pyplot as plt\n",
    "import matplotlib.font_manager as fm\n",
    "import altair as alt\n",
    "import ipywidgets as widgets\n",
    "from ipywidgets import VBox\n",
    "from IPython.display import display, clear_output\n",
    "from IPython.display import HTML\n",
    "import plotly.graph_objects as go\n",
    "from plotly.subplots import make_subplots\n",
    "import plotly.io as pio\n",
    "import wbdata\n",
    "# from statsmodels.tsa.arima.model import ARIMA\n",
    "from prophet import Prophet\n",
    "from prophet.diagnostics import cross_validation\n",
    "from prophet.diagnostics import performance_metrics\n",
    "from prophet.plot import plot_plotly, plot_components_plotly\n",
    "import logging\n",
    "from ipywidgets import Layout\n",
    "import warnings"
   ]
  },
  {
   "cell_type": "markdown",
   "id": "934623ee",
   "metadata": {},
   "source": [
    "# 股票分析看板"
   ]
  },
  {
   "cell_type": "code",
   "execution_count": 4,
   "id": "ec68323d",
   "metadata": {},
   "outputs": [
    {
     "data": {
      "application/vnd.jupyter.widget-view+json": {
       "model_id": "edcaa304087046a981382629b23ef8c9",
       "version_major": 2,
       "version_minor": 0
      },
      "text/plain": [
       "HTML(value=\"<h2 style='text-align: left; color: #c71306;'>股票分析看板</h2>\")"
      ]
     },
     "metadata": {},
     "output_type": "display_data"
    },
    {
     "data": {
      "application/vnd.jupyter.widget-view+json": {
       "model_id": "f35d74d06bf1476e8796473c4cc6845e",
       "version_major": 2,
       "version_minor": 0
      },
      "text/plain": [
       "Dropdown(description='Mode:', index=1, options=('Single Stock', 'Multiple Stock'), value='Multiple Stock')"
      ]
     },
     "metadata": {},
     "output_type": "display_data"
    },
    {
     "data": {
      "application/vnd.jupyter.widget-view+json": {
       "model_id": "133a9a313788479eb64ca4f45fe02f63",
       "version_major": 2,
       "version_minor": 0
      },
      "text/plain": [
       "Text(value='000001.SS', description='Ticker 1:')"
      ]
     },
     "metadata": {},
     "output_type": "display_data"
    },
    {
     "data": {
      "application/vnd.jupyter.widget-view+json": {
       "model_id": "2059fa9e4dcb4384a4058333c839363b",
       "version_major": 2,
       "version_minor": 0
      },
      "text/plain": [
       "Text(value='^HSI', description='Ticker 2:', layout=Layout(display='flex'))"
      ]
     },
     "metadata": {},
     "output_type": "display_data"
    },
    {
     "data": {
      "application/vnd.jupyter.widget-view+json": {
       "model_id": "61e03f4e288342ddb1b3d472decad069",
       "version_major": 2,
       "version_minor": 0
      },
      "text/plain": [
       "DatePicker(value=Timestamp('2010-01-01 00:00:00'), description='Start Date')"
      ]
     },
     "metadata": {},
     "output_type": "display_data"
    },
    {
     "data": {
      "application/vnd.jupyter.widget-view+json": {
       "model_id": "4626b99d71644258b415eb3dc6716a29",
       "version_major": 2,
       "version_minor": 0
      },
      "text/plain": [
       "DatePicker(value=Timestamp('2024-03-17 00:00:00'), description='End Date')"
      ]
     },
     "metadata": {},
     "output_type": "display_data"
    },
    {
     "data": {
      "application/vnd.jupyter.widget-view+json": {
       "model_id": "40ad3e3ab2c241d198ab0fdb7668ea10",
       "version_major": 2,
       "version_minor": 0
      },
      "text/plain": [
       "Button(description='Price Chart', layout=Layout(height='auto', justify_content='center', width='auto'), style=…"
      ]
     },
     "metadata": {},
     "output_type": "display_data"
    },
    {
     "data": {
      "application/vnd.jupyter.widget-view+json": {
       "model_id": "f0788de70aa44790b7305999fdf59e32",
       "version_major": 2,
       "version_minor": 0
      },
      "text/plain": [
       "Button(description='Time Series Analysis', layout=Layout(display='none', height='auto', justify_content='cente…"
      ]
     },
     "metadata": {},
     "output_type": "display_data"
    },
    {
     "data": {
      "application/vnd.jupyter.widget-view+json": {
       "model_id": "f84b8c23e0fb4c81a741b502baab449b",
       "version_major": 2,
       "version_minor": 0
      },
      "text/plain": [
       "Output()"
      ]
     },
     "metadata": {},
     "output_type": "display_data"
    }
   ],
   "source": [
    "cmdstanpy_logger = logging.getLogger(\"cmdstanpy\")\n",
    "cmdstanpy_logger.disabled = True\n",
    "\n",
    "# Function to download stock data\n",
    "def download_stock_data(ticker, start_date, end_date):\n",
    "    return yf.download(ticker, start=start_date, end=end_date, progress=False)['Close']\n",
    "\n",
    "# Function to plot stock data\n",
    "def plot_stock_data(stock_1_data, stock_1_ticker, stock_2_data=None, stock_2_ticker=None):\n",
    "    fig = make_subplots(specs=[[{\"secondary_y\": stock_2_data is not None}]])\n",
    "    fig.add_trace(\n",
    "        go.Scatter(\n",
    "            x=stock_1_data.index,\n",
    "            y=stock_1_data,\n",
    "            mode='lines',\n",
    "            name=stock_1_ticker,  # Use ticker as legend name\n",
    "            line=dict(color='#1f77b4')\n",
    "        ),\n",
    "        secondary_y=False\n",
    "    )\n",
    "    \n",
    "    if stock_2_data is not None:\n",
    "        fig.add_trace(\n",
    "            go.Scatter(\n",
    "                x=stock_2_data.index,\n",
    "                y=stock_2_data,\n",
    "                mode='lines',\n",
    "                name=stock_2_ticker,  # Use ticker as legend name\n",
    "                line=dict(color='#ff7f0e')\n",
    "            ),\n",
    "            secondary_y=True\n",
    "        )\n",
    "\n",
    "    fig.update_layout(\n",
    "        title=\"Line Chart of Close Prices\",\n",
    "        template=\"plotly_white\",\n",
    "        xaxis_title=\"Date\",\n",
    "        yaxis_title=\"Close Price\"\n",
    "    )\n",
    "    fig.show()\n",
    "    \n",
    "# Function to display analysis results\n",
    "def display_results(stock_ticker_1, stock_ticker_2, correlation, beta, volatility_1, volatility_2):\n",
    "    results_html = f\"\"\"\n",
    "    <table>\n",
    "    <tr><th>Analysis</th><th>{stock_ticker_1}</th><th>{stock_ticker_2}</th></tr>\n",
    "    <tr><td>Pearson Correlation between {stock_ticker_1} and {stock_ticker_2}</td><td colspan='2'>{correlation:.4f}</td></tr>\n",
    "    <tr><td>Beta Coefficient of {stock_ticker_1} relative to {stock_ticker_2}</td><td colspan='2'>{beta:.4f}</td></tr>\n",
    "    <tr><td>Volatility</td><td>{volatility_1:.4f}</td><td>{volatility_2:.4f}</td></tr>\n",
    "    </table>\n",
    "    \"\"\"\n",
    "    display(HTML(results_html))\n",
    "\n",
    "# Function for financial analysis\n",
    "def perform_financial_analysis(stock_1_data, stock_1_ticker, stock_2_data, stock_2_ticker):\n",
    "    aligned_data = pd.merge(stock_1_data.reset_index(), stock_2_data.reset_index(), on='Date', suffixes=('_1', '_2'))\n",
    "    \n",
    "    # Pearson Correlation\n",
    "    correlation = aligned_data.iloc[:, 1].corr(aligned_data.iloc[:, 2])\n",
    "    \n",
    "    # Beta Coefficient\n",
    "    covariance = np.cov(aligned_data.iloc[:, 1].pct_change().dropna(), aligned_data.iloc[:, 2].pct_change().dropna())[0][1]\n",
    "    variance = aligned_data.iloc[:, 2].pct_change().var()\n",
    "    beta = covariance / variance\n",
    "    \n",
    "    # Volatility Comparison\n",
    "    volatility_1 = aligned_data.iloc[:, 1].pct_change().std()\n",
    "    volatility_2 = aligned_data.iloc[:, 2].pct_change().std()\n",
    "    \n",
    "    # Display results\n",
    "    display_results(stock_1_ticker, stock_2_ticker, correlation, beta, volatility_1, volatility_2)\n",
    "    \n",
    "# New function for prediction\n",
    "def predict_stock_price(stock_data, periods=30):\n",
    "    df = stock_data.reset_index()\n",
    "    df.rename(columns={'Date': 'ds', 'Close': 'y'}, inplace=True)  # Assuming 'Close' is the column with stock prices\n",
    "    \n",
    "    model = Prophet()\n",
    "    model.fit(df)\n",
    "    \n",
    "    future = model.make_future_dataframe(periods=periods)\n",
    "    forecast = model.predict(future)\n",
    "    \n",
    "    return forecast, model\n",
    "    \n",
    "# Function to display prediction properties\n",
    "def display_prediction_properties(model, forecast):\n",
    "    fig = make_subplots(rows=3, cols=1)\n",
    "    # Trend\n",
    "    fig.add_trace(go.Scatter(x=forecast['ds'], y=forecast['trend'], name='Trend'), row=1, col=1)\n",
    "    \n",
    "    # Yearly\n",
    "    fig.add_trace(go.Scatter(x=forecast['ds'], y=forecast['yearly'], name='Yearly Seasonality'), row=2, col=1)\n",
    "    \n",
    "    # Weekly\n",
    "    if 'weekly' in forecast:\n",
    "        fig.add_trace(go.Scatter(x=forecast['ds'], y=forecast['weekly'], name='Weekly Seasonality'), row=3, col=1)\n",
    "    \n",
    "    fig.update_layout(height=600, width=800, title_text=\"Prophet Model Components\")\n",
    "    fig.show()\n",
    "    \n",
    "def evaluate_prophet_model(model, df, start_date, end_date):\n",
    "    # Calculate the total days of data available\n",
    "    total_days = (end_date - start_date).days\n",
    "    \n",
    "    # Ensure there's enough data for initial training period and horizon\n",
    "    if total_days <= 730:  # Less than or equal to 2 years\n",
    "        print(\"Limited data available for evaluation. Adjusting validation strategy.\")\n",
    "        # Adjust 'initial' and 'horizon' based on available data\n",
    "        initial_days = max(180, total_days // 3)  # Use a minimum of 6 months or a third of total days\n",
    "        horizon_days = max(30, total_days // 6)  # Use a minimum of 1 month or a sixth of total days\n",
    "    else:\n",
    "        # Set 'initial' to half of the data's timeframe up to a maximum of 3 years (in days)\n",
    "        initial_days = min(1095, total_days // 2)  # 3 years in days or half of the total days\n",
    "        horizon_days = 365  # Set 'horizon' to 1 year (365 days)\n",
    "    \n",
    "    initial = f'{initial_days} days'\n",
    "    horizon = f'{horizon_days} days'\n",
    "    \n",
    "    # Set 'period' based on the adjusted 'initial' period to ensure multiple evaluations\n",
    "    period_days = max(90, initial_days // 4)  # At least 3 months, a quarter of the initial\n",
    "    period = f'{period_days} days'\n",
    "    \n",
    "    try:\n",
    "        # Perform cross-validation\n",
    "        df_cv = cross_validation(model, initial=initial, period=period, horizon=horizon)\n",
    "        \n",
    "        # Calculate performance metrics\n",
    "        df_p = performance_metrics(df_cv)\n",
    "        \n",
    "        # Display evaluation metrics\n",
    "        display_evaluation_metrics(df_p)\n",
    "    except Exception as e:\n",
    "        print(f\"Error during model evaluation: {e}\")\n",
    "\n",
    "def display_evaluation_metrics(df_p):\n",
    "    metrics = df_p.mean().to_dict()  # Averaging performance metrics for simplicity\n",
    "    \n",
    "    metrics_html = \"<div><h3>Model Evaluation Metrics</h3><table border='1'><tr>\"\n",
    "    metrics_html += \"\".join([f\"<th>{metric}</th>\" for metric in metrics.keys()])\n",
    "    metrics_html += \"</tr><tr>\"\n",
    "    \n",
    "    # Adjust formatting to handle Timedelta and numeric values separately\n",
    "    for value in metrics.values():\n",
    "        if isinstance(value, pd.Timedelta):\n",
    "            # Convert Timedelta to days, for example\n",
    "            formatted_value = f\"{value.total_seconds() / 86400:.2f} days\"\n",
    "        else:\n",
    "            # Assume value is numeric and format as before\n",
    "            formatted_value = f\"{value:.4f}\"\n",
    "        metrics_html += f\"<td>{formatted_value}</td>\"\n",
    "    \n",
    "    metrics_html += \"</tr></table></div>\"\n",
    "    display(HTML(metrics_html))\n",
    "    \n",
    "# Button click event handler for prediction\n",
    "def on_predict_button_clicked(b):\n",
    "    with output:\n",
    "        clear_output(wait=True)\n",
    "        start_date_val = pd.to_datetime(start_date.value)\n",
    "        end_date_val = pd.to_datetime(end_date.value)\n",
    "        stock_data = download_stock_data(stock_ticker_1.value, start_date_val, end_date_val)\n",
    "        forecast, model = predict_stock_price(stock_data, periods=30)\n",
    "        \n",
    "        # Use Plotly for interactive forecast plot\n",
    "        fig = plot_plotly(model, forecast)\n",
    "        fig.update_layout(title=\"Stock Price Forecast\")\n",
    "        fig.show()\n",
    "\n",
    "        # Optionally, use Plotly for interactive components plot\n",
    "        fig_components = plot_components_plotly(model, forecast)\n",
    "        fig_components.update_layout(title=\"Prophet Model Components\")\n",
    "        fig_components.show()\n",
    "        \n",
    "        # Evaluate and display metrics horizontally\n",
    "        evaluate_prophet_model(model, stock_data, start_date_val, end_date_val)\n",
    "        \n",
    "# The main function to fetch data, plot, and calculate financial metrics\n",
    "def fetch_plot_correlation(stock_ticker_1, stock_ticker_2, start_date, end_date):\n",
    "    stock_1_data = download_stock_data(stock_ticker_1, start_date, end_date)\n",
    "    stock_2_data = download_stock_data(stock_ticker_2, start_date, end_date) if stock_ticker_2 else None\n",
    "    \n",
    "    plot_stock_data(stock_1_data, stock_ticker_1, stock_2_data, stock_ticker_2)\n",
    "    \n",
    "    if stock_ticker_2:\n",
    "        perform_financial_analysis(stock_1_data, stock_ticker_1, stock_2_data, stock_ticker_2)\n",
    "\n",
    "# Define the button click event handler\n",
    "def on_button_clicked(b):\n",
    "    with output:\n",
    "        clear_output(wait=True)  # Clear the output before displaying new content\n",
    "        ticker_2 = stock_ticker_2.value if analysis_mode.value == 'Multiple Stock' else None\n",
    "        fetch_plot_correlation(stock_ticker_1.value, ticker_2, start_date.value.strftime('%Y-%m-%d'), end_date.value.strftime('%Y-%m-%d'))\n",
    "\n",
    "# Layout adjustment based on the analysis mode\n",
    "def adjust_layout(*args):\n",
    "    if analysis_mode.value == 'Single Stock':\n",
    "        stock_ticker_2.layout.display = 'none'\n",
    "        predict_button.layout.display = 'flex'\n",
    "    else:\n",
    "        stock_ticker_2.layout.display = 'flex'\n",
    "        predict_button.layout.display = 'none'\n",
    "\n",
    "        \n",
    "# Prepare UI components\n",
    "dashboard_heading = widgets.HTML(value=\"<h2 style='text-align: left; color: #c71306;'>股票分析看板</h2>\")\n",
    "analysis_mode = widgets.Dropdown(options=['Single Stock', 'Multiple Stock'], value='Multiple Stock', description='Mode:')\n",
    "stock_ticker_1 = widgets.Text(value='000001.SS', description='Ticker 1:', disabled=False)\n",
    "stock_ticker_2 = widgets.Text(value='^HSI', description='Ticker 2:', disabled=False)\n",
    "start_date = widgets.DatePicker(description='Start Date', value=pd.to_datetime('2010-01-01'))\n",
    "end_date = widgets.DatePicker(description='End Date', value=pd.to_datetime(datetime.now().strftime('%Y-%m-%d')))\n",
    "run_button = widgets.Button(\n",
    "    description='Price Chart',\n",
    "    layout=Layout(width='auto', height='auto', justify_content='center'))\n",
    "predict_button = widgets.Button(\n",
    "    description='Time Series Analysis',\n",
    "    layout=Layout(width='auto', height='auto', justify_content='center')\n",
    ")\n",
    "predict_button.layout.display = 'none'  # Initially hidden\n",
    "\n",
    "output = widgets.Output()\n",
    "\n",
    "predict_button.on_click(on_predict_button_clicked)\n",
    "run_button.on_click(on_button_clicked)\n",
    "\n",
    "analysis_mode.observe(adjust_layout, 'value')\n",
    "adjust_layout()  # Adjust layout initially based on the default mode\n",
    "\n",
    "# Modify the display line to include the predict_button\n",
    "display(dashboard_heading, analysis_mode, stock_ticker_1, stock_ticker_2, start_date, end_date, run_button, predict_button, output)"
   ]
  }
 ],
 "metadata": {
  "kernelspec": {
   "display_name": "Python 3",
   "language": "python",
   "name": "python3"
  },
  "language_info": {
   "codemirror_mode": {
    "name": "ipython",
    "version": 3
   },
   "file_extension": ".py",
   "mimetype": "text/x-python",
   "name": "python",
   "nbconvert_exporter": "python",
   "pygments_lexer": "ipython3",
   "version": "3.8.8"
  }
 },
 "nbformat": 4,
 "nbformat_minor": 5
}
